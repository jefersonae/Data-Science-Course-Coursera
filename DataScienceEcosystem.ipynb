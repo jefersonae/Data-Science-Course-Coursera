{
 "cells": [
  {
   "cell_type": "markdown",
   "id": "f4bed09a-23d7-4995-a879-7e8add763f8f",
   "metadata": {
    "tags": []
   },
   "source": [
    "<h1>Data Science Tools and Ecosystem</h1>"
   ]
  },
  {
   "cell_type": "markdown",
   "id": "152b27f8-3c1c-42db-8462-02bdcc2cad8e",
   "metadata": {},
   "source": [
    "In this notebook, Data Science Tools and Ecosystem are summarized."
   ]
  },
  {
   "cell_type": "markdown",
   "id": "26708a5f-e0ca-4265-b2a5-c3f95c8f5bab",
   "metadata": {},
   "source": [
    "**Objectives:**\n",
    "- List popular languages for Data Science\n",
    "- List commonly used libraries used by Data Scientists \n",
    "- Create a table with Data Science Tools"
   ]
  },
  {
   "cell_type": "markdown",
   "id": "a003e50c-54eb-418e-a5ab-5ee3ae3712b4",
   "metadata": {},
   "source": [
    "Some of the popular languages that Data Scientists use are:\n",
    "1. Python\n",
    "2. R\n",
    "3. C++"
   ]
  },
  {
   "cell_type": "markdown",
   "id": "c1ae83d8-5337-4251-a2e9-45a8cb4e8467",
   "metadata": {},
   "source": [
    "Some of the commonly used libraries used by Data Scientists include:\n",
    "1. Numpy\n",
    "2. ggplot\n",
    "3. Matplotlib \n",
    "    "
   ]
  },
  {
   "cell_type": "markdown",
   "id": "0b26eb6c-fbbd-494b-8e4f-9061753d3fc6",
   "metadata": {},
   "source": [
    "|Data Science Tools|\n",
    "|-------------------|\n",
    "|Jupyter Notebook|\n",
    "|RStudio|\n",
    "|GitHub|"
   ]
  },
  {
   "cell_type": "markdown",
   "id": "1ad43c56-270e-432b-b5c1-b944e931b1f9",
   "metadata": {},
   "source": [
    "### Below are a few examples of evaluating arithmetic expressions in Python"
   ]
  },
  {
   "cell_type": "markdown",
   "id": "1b312f35-0ec2-469f-ae30-f61a196cd4b1",
   "metadata": {},
   "source": [
    "This a simple arithmetic expression to mutiply then add integers"
   ]
  },
  {
   "cell_type": "code",
   "execution_count": 1,
   "id": "88382318-8943-4e4b-bae9-368472123ee7",
   "metadata": {
    "tags": []
   },
   "outputs": [
    {
     "data": {
      "text/plain": [
       "17"
      ]
     },
     "execution_count": 1,
     "metadata": {},
     "output_type": "execute_result"
    }
   ],
   "source": [
    "(3*4)+5"
   ]
  },
  {
   "cell_type": "markdown",
   "id": "391877c4-59a6-424c-8a4f-5f659a417bd6",
   "metadata": {},
   "source": [
    "This will convert 200 minutes to hours by diving by 60"
   ]
  },
  {
   "cell_type": "code",
   "execution_count": 2,
   "id": "d3ada6fe-cef6-450a-a9c4-9e39edcf9cbd",
   "metadata": {
    "tags": []
   },
   "outputs": [
    {
     "data": {
      "text/plain": [
       "3.3333333333333335"
      ]
     },
     "execution_count": 2,
     "metadata": {},
     "output_type": "execute_result"
    }
   ],
   "source": [
    "200/60"
   ]
  },
  {
   "cell_type": "markdown",
   "id": "daa44e38-b88f-4524-8d06-a20c7842f455",
   "metadata": {},
   "source": [
    "## Author\n",
    "Jeferson de Souza Andrade"
   ]
  },
  {
   "cell_type": "code",
   "execution_count": null,
   "id": "ea87438e-19c3-46fe-b60a-812d8af9aa86",
   "metadata": {},
   "outputs": [],
   "source": []
  }
 ],
 "metadata": {
  "kernelspec": {
   "display_name": "Python",
   "language": "python",
   "name": "conda-env-python-py"
  },
  "language_info": {
   "codemirror_mode": {
    "name": "ipython",
    "version": 3
   },
   "file_extension": ".py",
   "mimetype": "text/x-python",
   "name": "python",
   "nbconvert_exporter": "python",
   "pygments_lexer": "ipython3",
   "version": "3.7.12"
  }
 },
 "nbformat": 4,
 "nbformat_minor": 5
}
